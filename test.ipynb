{
 "cells": [
  {
   "cell_type": "code",
   "execution_count": 3,
   "metadata": {},
   "outputs": [],
   "source": [
    "import os\n",
    "import base64\n",
    "from dotenv import load_dotenv\n",
    "from openai import OpenAI"
   ]
  },
  {
   "cell_type": "code",
   "execution_count": 4,
   "metadata": {},
   "outputs": [],
   "source": [
    "load_dotenv()\n",
    "client = OpenAI(api_key=os.getenv(\"API_KEY\"))"
   ]
  },
  {
   "cell_type": "code",
   "execution_count": 5,
   "metadata": {},
   "outputs": [],
   "source": [
    "def encode_image_to_base64(image_path: str) -> str:\n",
    "    with open(image_path, \"rb\") as img_file:\n",
    "        return base64.b64encode(img_file.read()).decode(\"utf-8\")\n"
   ]
  },
  {
   "cell_type": "code",
   "execution_count": 6,
   "metadata": {},
   "outputs": [],
   "source": [
    "PROMPT = \"\"\"\n",
    "This is an image of a Japanese receipt.\n",
    "\n",
    "Please extract the following information and return it in JSON format:\n",
    "\n",
    "- Store name (\"store\")\n",
    "- Date and time of purchase (\"date\")\n",
    "- List of purchased items (\"items\"):\n",
    "    Each item should include:\n",
    "    - Name (\"name\")\n",
    "    - Price in yen (\"price\")\n",
    "- If there are discounts, include them as items with a negative price.\n",
    "- Total amount (\"total\")\n",
    "- Payment method and change (\"payment.method\" and \"payment.change\")\n",
    "\n",
    "Return the result using this JSON structure:\n",
    "\n",
    "{\n",
    "  \"store\": \"\",\n",
    "  \"date\": \"\",\n",
    "  \"items\": [\n",
    "    { \"name\": \"\", \"price\": 0 }\n",
    "  ],\n",
    "  \"total\": 0,\n",
    "  \"payment\": {\n",
    "    \"method\": \"\",\n",
    "    \"change\": 0\n",
    "  }\n",
    "}\n",
    "\"\"\"\n"
   ]
  },
  {
   "cell_type": "code",
   "execution_count": 7,
   "metadata": {},
   "outputs": [],
   "source": [
    "def analyze_receipt_with_gpt4o(image_path: str):\n",
    "    base64_image = encode_image_to_base64(image_path)\n",
    "\n",
    "    response = client.chat.completions.create(\n",
    "        model=\"gpt-4o\",\n",
    "        messages=[\n",
    "            {\n",
    "                \"role\": \"user\",\n",
    "                \"content\": [\n",
    "                    { \"type\": \"text\", \"text\": PROMPT },\n",
    "                    {\n",
    "                        \"type\": \"image_url\",\n",
    "                        \"image_url\": {\n",
    "                            \"url\": f\"data:image/jpeg;base64,{base64_image}\"\n",
    "                        }\n",
    "                    }\n",
    "                ]\n",
    "            }\n",
    "        ],\n",
    "        max_tokens=1000,\n",
    "        temperature=0.2\n",
    "    )\n",
    "\n",
    "    print(\"📦 JSON Output:\")\n",
    "    print(response.choices[0].message.content)"
   ]
  },
  {
   "cell_type": "code",
   "execution_count": 8,
   "metadata": {},
   "outputs": [
    {
     "name": "stdout",
     "output_type": "stream",
     "text": [
      "📦 JSON Output:\n",
      "```json\n",
      "{\n",
      "  \"store\": \"MEGAドン・キホーテUNY浜松泉町店\",\n",
      "  \"date\": \"2025年03月23日 18:18\",\n",
      "  \"items\": [\n",
      "    { \"name\": \"レジ袋\", \"price\": 5 },\n",
      "    { \"name\": \"午後の紅茶 おいしい無糖\", \"price\": 138 },\n",
      "    { \"name\": \"オイコス オーガニック\", \"price\": 980 },\n",
      "    { \"name\": \"フライパン 直径25cm\", \"price\": 128 },\n",
      "    { \"name\": \"朝日 ブラックペッパー\", \"price\": 299 }\n",
      "  ],\n",
      "  \"total\": 2017,\n",
      "  \"payment\": {\n",
      "    \"method\": \"現金\",\n",
      "    \"change\": 169\n",
      "  }\n",
      "}\n",
      "```\n"
     ]
    }
   ],
   "source": [
    "if __name__ == \"__main__\":\n",
    "    image_path = \"./dataset/2.jpg\"\n",
    "    analyze_receipt_with_gpt4o(image_path)"
   ]
  },
  {
   "cell_type": "code",
   "execution_count": 2,
   "metadata": {},
   "outputs": [],
   "source": [
    "import os\n",
    "from dotenv import load_dotenv\n",
    "from openai import OpenAI\n",
    "\n",
    "load_dotenv()\n",
    "client = OpenAI(api_key=os.getenv(\"API_KEY\"))\n",
    "\n",
    "# print(api_key := os.getenv(\"API_KEY\"))\n",
    "\n",
    "# response = client.models.list()\n",
    "# for model in response.data:\n",
    "#     print(model.id)\n"
   ]
  },
  {
   "cell_type": "markdown",
   "metadata": {},
   "source": [
    "# API テスト"
   ]
  },
  {
   "cell_type": "code",
   "execution_count": null,
   "metadata": {},
   "outputs": [],
   "source": []
  }
 ],
 "metadata": {
  "kernelspec": {
   "display_name": "budget-tracker-NUwHeA6R",
   "language": "python",
   "name": "python3"
  },
  "language_info": {
   "codemirror_mode": {
    "name": "ipython",
    "version": 3
   },
   "file_extension": ".py",
   "mimetype": "text/x-python",
   "name": "python",
   "nbconvert_exporter": "python",
   "pygments_lexer": "ipython3",
   "version": "3.11.8"
  }
 },
 "nbformat": 4,
 "nbformat_minor": 2
}
